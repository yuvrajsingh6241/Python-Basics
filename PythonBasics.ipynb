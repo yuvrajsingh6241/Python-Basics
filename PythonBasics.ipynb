{
  "nbformat": 4,
  "nbformat_minor": 0,
  "metadata": {
    "colab": {
      "provenance": []
    },
    "kernelspec": {
      "name": "python3",
      "display_name": "Python 3"
    },
    "language_info": {
      "name": "python"
    }
  },
  "cells": [
    {
      "cell_type": "markdown",
      "source": [
        "# Python Basics"
      ],
      "metadata": {
        "id": "qgVxD-3-KmzN"
      }
    },
    {
      "cell_type": "markdown",
      "source": [
        "1. What is Python, and why is it popular?\n",
        "  -  Python is a high-level, interpreted programming language known for its simplicity, readability, and versatility.\n",
        "  - It is popular because of these points which are mentioned below :\n",
        "    1. Simple and Readable Syntax\n",
        "    2. Versatile\n",
        "    3. Large Standard Library & Ecosystem\n",
        "    4. Strong Community Support\n",
        "    5. Cross-Platform Compatibility\n",
        "\n",
        "2. What is an interpreter in Python?\n",
        "  - An interpreter in Python is a program that reads and executes Python code line by line, converting it into machine-understandable instructions at runtime.\n",
        "  -  Makes Python cross-platform.\n",
        "\n",
        "3. What are pre-defined keywords in Python?\n",
        "  - Pre-defined keywords in Python are reserved words that have special meaning to the Python interpreter. These words cannot be used as variable names, function names, or identifiers because they are part of the core syntax of the language.\n",
        "\n",
        "4. Can keywords be used as variable names?\n",
        "  - No, keywords cannot be used as variable names in Python.\n",
        "Keywords have special, predefined meanings in Python. Using them as variable names would confuse the interpreter, because it wouldn't know if you're referring to the keyword's function or a variable.\n",
        "\n",
        "5. What is mutability in Python?\n",
        "  - Mutability in Python refers to whether or not an object’s value can be changed after it is created.\n",
        "\n",
        "6. Why are lists mutable, but tuples are immutable?\n",
        "  - Lists are mutable because:\n",
        "    1. Lists use a dynamic array internally.\n",
        "    2. This array stores references to objects.\n",
        "    3. Python intentionally allows this array to be resized or changed.\n",
        "    4. This is because lists are designed for flexible, changeable collections of data.\n",
        "  - Tuplle are immutable because:\n",
        "    1. Tuples also store references to objects, but in a fixed-size array.\n",
        "    2. Python does not allow changes to this structure after creation.\n",
        "    3. This means: You cannot add, remove, or change items in a tuple.\n",
        "7. What is the difference between “==” and “is” operators in Python?\n",
        "  - \"==\" → Equality Operator\n",
        "        1. Checks if two values are equal.\n",
        "        2. It compares the contents (i.e., what the values are).\n",
        "  - \"is\" → Identity Operator\n",
        "        1. Checks if two variables point to the exact same object in memory.\n",
        "        2. It does not care about the contents, only whether they are the same object.\n",
        "8. What are logical operators in Python?\n",
        "  - Logical operators in Python are used to combine conditional statements (expressions that return True or False)\n",
        "\n",
        "  - Here are 3 Logical Operators in Python:\n",
        "    1. and : Returns True if both conditions are True.\n",
        "    2. or :\tReturns True if at least one condition is True.\n",
        "    3. not : Reverses the result: True becomes False, and vice versa.\n",
        "9. What is type casting in Python?\n",
        "  - Type casting in Python is the process of converting a value from one data type to another using built-in functions like int(), str(), float(), etc. It allows you to change how data is represented so it fits your needs in calculations or operations.\n",
        "10. What is the difference between implicit and explicit type casting?\n",
        "  - Implicit Type Casting :\n",
        "     1. In implicit casting, Python automatically converts one data type to another.\n",
        "     2. You don’t write any conversion code — it happens behind the scenes.\n",
        "     3. It usually happens when you mix different data types in an expression.\n",
        "  - Explicit Type Casting :\n",
        "     1. In explicit casting, you manually convert a value from one type to another.\n",
        "     2. You use built-in functions like int(), float(), or str() to do this.\n",
        "11. What is the purpose of conditional statements in Python?\n",
        "  - The purpose of conditional statements in Python is to control the flow of a program by executing certain code only when specific conditions are met. They allow the program to make decisions and respond differently based on the input or situation.\n",
        "12. How does the elif statement work?\n",
        "  - Here's How It Works:\n",
        "     1. Python checks the if condition first.\n",
        "     2. If \"if\" is True, that block runs, and the rest (elif, else) are skipped.\n",
        "     3. If \"if\" is False, Python checks the \"elif\" condition.\n",
        "     4. If \"elif\" is True, its block runs.\n",
        "     5. You can have multiple \"elif\" statements.\n",
        "     6. If none of the \"if\" or \"elif\" conditions are True, the \"else\" block runs.\n",
        "13.  What is the difference between for and while loops?\n",
        "  - \"for\" loop\n",
        "      1. A \"for\" loop is used when you know in advance how many times you want to repeat the code.\n",
        "      2. It iterates over a sequence like a list, string, tuple, or range.\n",
        "  -  \"while\" loop\n",
        "      1. A \"while\" loop is used when you want to repeat code as long as a condition is True.\n",
        "      2. You don’t always know how many times it will run.\n",
        "14.  Describe a scenario where a while loop is more suitable than a for loop.\n",
        "  - Scenario: When to Use a while Loop Over a for Loop\n",
        "   > A while loop is more suitable in situations where:\n",
        "      1. The number of iterations is not known in advance, and\n",
        "      2. The loop should continue until a specific condition becomes false."
      ],
      "metadata": {
        "id": "UIbvZfHMK6nn"
      }
    },
    {
      "cell_type": "code",
      "source": [
        "# PRACTICAL QUESTION\n",
        "\n",
        "# 1. Write a Python program to print \"Hello, World!\n",
        "\n",
        "a = \"Hello, World!\"\n",
        "print(a)"
      ],
      "metadata": {
        "colab": {
          "base_uri": "https://localhost:8080/"
        },
        "id": "l46Y-0i9O7WW",
        "outputId": "28b589b5-dcc8-4dd4-b668-ee879bb97478"
      },
      "execution_count": null,
      "outputs": [
        {
          "output_type": "stream",
          "name": "stdout",
          "text": [
            "Hello, World!\n"
          ]
        }
      ]
    },
    {
      "cell_type": "code",
      "source": [
        "# 2. Write a Python program that displays your name and age.\n",
        "\n",
        "name = \"Yuvraj Singh\"\n",
        "age = \"20\"\n",
        "print(\"My name :\",name)\n",
        "print(\"My age :\",age)"
      ],
      "metadata": {
        "colab": {
          "base_uri": "https://localhost:8080/"
        },
        "id": "L-HgVYmzQymT",
        "outputId": "74d44804-1935-4170-e45a-9ef68d46616f"
      },
      "execution_count": null,
      "outputs": [
        {
          "output_type": "stream",
          "name": "stdout",
          "text": [
            "My name : Yuvraj Singh\n",
            "My age : 20\n"
          ]
        }
      ]
    },
    {
      "cell_type": "code",
      "source": [
        "# 3. Write code to print all the pre-defined keywords in Python using the keyword library.\n",
        "\n",
        "import keyword\n",
        "\n",
        "# Get the list of all keywords\n",
        "keywords_list = keyword.kwlist\n",
        "\n",
        "# Print each keyword\n",
        "print(\"Python Keywords: \")\n",
        "for kw in keywords_list:\n",
        "    print(kw, end=\", \")"
      ],
      "metadata": {
        "colab": {
          "base_uri": "https://localhost:8080/"
        },
        "id": "WYcW_e-oVuZZ",
        "outputId": "f1911edc-b46d-4706-a27f-2ac792ac474b"
      },
      "execution_count": null,
      "outputs": [
        {
          "output_type": "stream",
          "name": "stdout",
          "text": [
            "Python Keywords: \n",
            "False, None, True, and, as, assert, async, await, break, class, continue, def, del, elif, else, except, finally, for, from, global, if, import, in, is, lambda, nonlocal, not, or, pass, raise, return, try, while, with, yield, "
          ]
        }
      ]
    },
    {
      "cell_type": "code",
      "source": [
        "# 4. Write a program that checks if a given word is a Python keyword.\n",
        "\n",
        "\n",
        "# there are alot of python keyword but\n",
        "# some python keywords are mentioned in the below list to check\n",
        "python_keywords = [\"true\", \"false\", \"none\", \"if\", \"elif\", \"else\", \"break\", \"while\", \"import\"]\n",
        "\n",
        "# taking input from user\n",
        "words = input(\"Enter your words: \")\n",
        "\n",
        "# to check user's input is in the list or not\n",
        "if(words in python_keywords):\n",
        "  print(\"This is a valid Python keyword\")\n",
        "else:\n",
        "  print(\"Invalid Python Keyword\")\n",
        "\n"
      ],
      "metadata": {
        "colab": {
          "base_uri": "https://localhost:8080/"
        },
        "id": "QZDuL1PHdHcG",
        "outputId": "06cdfbae-bcdf-42dc-fc7e-8281a49550b7"
      },
      "execution_count": null,
      "outputs": [
        {
          "output_type": "stream",
          "name": "stdout",
          "text": [
            "Enter your words: if\n",
            "This is a valid Python keyword\n"
          ]
        }
      ]
    },
    {
      "cell_type": "code",
      "source": [
        "# 5. Create a list and tuple in Python, and demonstrate how attempting to change an element works differently for each.\n",
        "\n",
        "# Create a list (can be changed)\n",
        "my_list = [1, 2, 3]\n",
        "print(\"List before change:\", my_list)\n",
        "\n",
        "# Change the second item (index 1)\n",
        "my_list[1] = 99\n",
        "print(\"List after change:\", my_list)\n",
        "\n",
        "# Create a tuple (cannot be changed)\n",
        "my_tuple = (1, 2, 3)\n",
        "print(\"\\nTuple before change:\", my_tuple)\n",
        "\n",
        "# Try to change the second item\n",
        "# This will cause an error\n",
        "try:\n",
        "    my_tuple[1] = 99\n",
        "except:\n",
        "    print(\"You can't change a tuple!\")\n"
      ],
      "metadata": {
        "colab": {
          "base_uri": "https://localhost:8080/"
        },
        "id": "v1FLtxiHkVrj",
        "outputId": "be4dc075-8a45-4052-9909-0a8ff7890cc3"
      },
      "execution_count": null,
      "outputs": [
        {
          "output_type": "stream",
          "name": "stdout",
          "text": [
            "List before change: [1, 2, 3]\n",
            "List after change: [1, 99, 3]\n",
            "\n",
            "Tuple before change: (1, 2, 3)\n",
            "You can't change a tuple!\n"
          ]
        }
      ]
    },
    {
      "cell_type": "code",
      "source": [
        "# 6. Write a function to demonstrate the behavior of mutable and immutable arguments.\n",
        "\n",
        "def change_values(x, my_list):\n",
        "    x = x + 5         # Immutable: x won't change outside\n",
        "    my_list.append(4) # Mutable: list will change\n",
        "\n",
        "num = 10             # immutable\n",
        "numbers = [1, 2, 3]  # mutable\n",
        "\n",
        "print(\"Before:\")\n",
        "print(\"num =\", num)\n",
        "print(\"numbers =\", numbers)\n",
        "\n",
        "change_values(num, numbers)\n",
        "\n",
        "print(\"\\nAfter:\")\n",
        "print(\"num =\", num)        # Still 10\n",
        "print(\"numbers =\", numbers)  # Now [1, 2, 3, 4]\n"
      ],
      "metadata": {
        "colab": {
          "base_uri": "https://localhost:8080/"
        },
        "id": "Oa-L16j7D0Vw",
        "outputId": "127b7b53-f7bd-4d5e-d550-dc546db14f81"
      },
      "execution_count": null,
      "outputs": [
        {
          "output_type": "stream",
          "name": "stdout",
          "text": [
            "Before:\n",
            "num = 10\n",
            "numbers = [1, 2, 3]\n",
            "\n",
            "After:\n",
            "num = 10\n",
            "numbers = [1, 2, 3, 4]\n"
          ]
        }
      ]
    },
    {
      "cell_type": "code",
      "source": [
        "# 7. Write a program that performs basic arithmetic operations on two user-input numbers.\n",
        "\n",
        "# Get input from the user\n",
        "a = float(input(\"Enter first number: \"))\n",
        "b = float(input(\"Enter second number: \"))\n",
        "\n",
        "# Perform operations\n",
        "print(\"Addition:\", a + b)\n",
        "print(\"Subtraction:\", a - b)\n",
        "print(\"Multiplication:\", a * b)\n",
        "\n",
        "# Check for division by zero\n",
        "if b != 0:\n",
        "    print(\"Division:\", a / b)\n",
        "else:\n",
        "    print(\"Cannot divide by zero.\")\n"
      ],
      "metadata": {
        "colab": {
          "base_uri": "https://localhost:8080/"
        },
        "id": "yTFrq88Jcs6j",
        "outputId": "ae41bdd6-1457-4677-8b10-fa62804235a9"
      },
      "execution_count": null,
      "outputs": [
        {
          "output_type": "stream",
          "name": "stdout",
          "text": [
            "Enter first number: 10\n",
            "Enter second number: 0\n",
            "Addition: 10.0\n",
            "Subtraction: 10.0\n",
            "Multiplication: 0.0\n",
            "Cannot divide by zero.\n"
          ]
        }
      ]
    },
    {
      "cell_type": "code",
      "source": [
        "# 8. Write a program to demonstrate the use of logical operators.\\\n",
        "\n",
        "a = True\n",
        "b = False\n",
        "\n",
        "print(\"a and b =\", a and b)   # False\n",
        "print(\"a or b =\", a or b)     # True\n",
        "print(\"not a =\", not a)       # False\n"
      ],
      "metadata": {
        "colab": {
          "base_uri": "https://localhost:8080/"
        },
        "id": "rGctSYjqffQJ",
        "outputId": "9cae8543-c640-428c-8a26-8334184147bd"
      },
      "execution_count": null,
      "outputs": [
        {
          "output_type": "stream",
          "name": "stdout",
          "text": [
            "a and b = False\n",
            "a or b = True\n",
            "not a = False\n"
          ]
        }
      ]
    },
    {
      "cell_type": "code",
      "source": [
        "# 9. Write a Python program to convert user input from string to integer, float, and boolean types.\n",
        "\n",
        "# Get user input as a string\n",
        "user_input = input(\"Enter something: \")\n",
        "\n",
        "# Convert to integer\n",
        "try:\n",
        "    int_value = int(user_input)\n",
        "    print(\"As integer:\", int_value)\n",
        "except ValueError:\n",
        "    print(\"Cannot convert to integer.\")\n",
        "\n",
        "# Convert to float\n",
        "try:\n",
        "    float_value = float(user_input)\n",
        "    print(\"As float:\", float_value)\n",
        "except ValueError:\n",
        "    print(\"Cannot convert to float.\")\n",
        "\n",
        "# Convert to boolean\n",
        "bool_value = bool(user_input)\n",
        "print(\"As boolean:\", bool_value)\n"
      ],
      "metadata": {
        "colab": {
          "base_uri": "https://localhost:8080/"
        },
        "id": "NOyFgKrPg2hq",
        "outputId": "c48d04ae-7995-4288-e0ef-80f4f3c589de"
      },
      "execution_count": null,
      "outputs": [
        {
          "output_type": "stream",
          "name": "stdout",
          "text": [
            "Enter something: 65\n",
            "As integer: 65\n",
            "As float: 65.0\n",
            "As boolean: True\n"
          ]
        }
      ]
    },
    {
      "cell_type": "code",
      "source": [
        "# 10. Write code to demonstrate type casting with list elements.\n",
        "\n",
        "# converting a list of string to integer\n",
        "\n",
        "# Original list of strings\n",
        "str_list = ['1', '2', '3', '4', '5']\n",
        "\n",
        "# Type casting: Convert each string to integer\n",
        "int_list = [int(i) for i in str_list]\n",
        "\n",
        "print(\"Original list (strings):\", str_list)\n",
        "print(\"Converted list (integers):\", int_list)\n"
      ],
      "metadata": {
        "colab": {
          "base_uri": "https://localhost:8080/"
        },
        "id": "mU023QqRwe7U",
        "outputId": "a2f90959-b7fa-4a28-f999-531877fbeaad"
      },
      "execution_count": 2,
      "outputs": [
        {
          "output_type": "stream",
          "name": "stdout",
          "text": [
            "Original list (strings): ['1', '2', '3', '4', '5']\n",
            "Converted list (integers): [1, 2, 3, 4, 5]\n"
          ]
        }
      ]
    },
    {
      "cell_type": "code",
      "source": [
        "# 11. Write a program that checks if a number is positive, negative, or zero.\n",
        "\n",
        "# number input enter by user\n",
        "user_input = int(input(\"Enter your number: \"))\n",
        "\n",
        "#checking condition\n",
        "if user_input > 0:\n",
        "    print(\"This is a positive number.\")\n",
        "elif user_input < 0:\n",
        "    print(\"This is a negative number.\")\n",
        "else:\n",
        "    print(\"This is zero.\")"
      ],
      "metadata": {
        "colab": {
          "base_uri": "https://localhost:8080/"
        },
        "id": "OoVeaiXs1AM2",
        "outputId": "227002ba-47be-4f82-a451-0fa4302ed21f"
      },
      "execution_count": 3,
      "outputs": [
        {
          "output_type": "stream",
          "name": "stdout",
          "text": [
            "Enter your number: -5\n",
            "This is a negative number.\n"
          ]
        }
      ]
    },
    {
      "cell_type": "code",
      "source": [
        "# 12. Write a for loop to print numbers from 1 to 10.\n",
        "\n",
        "# code to print from 1 to 10\n",
        "for i in range (1, 11):\n",
        "    print(i, end=\", \")\n",
        "    i += 1"
      ],
      "metadata": {
        "colab": {
          "base_uri": "https://localhost:8080/"
        },
        "id": "sgsekzZJ19Xo",
        "outputId": "76aa87f4-6f27-4997-823e-e855423fae64"
      },
      "execution_count": 8,
      "outputs": [
        {
          "output_type": "stream",
          "name": "stdout",
          "text": [
            "1, 2, 3, 4, 5, 6, 7, 8, 9, 10, "
          ]
        }
      ]
    },
    {
      "cell_type": "code",
      "source": [
        "# 13. Write a Python program to find the sum of all even numbers between 1 and 50.\n",
        "\n",
        "# Initialize a variable to store the sum\n",
        "even_sum = 0\n",
        "# creating a loop\n",
        "for number in range(1, 51):\n",
        "  # Check if the number is even\n",
        "    if number % 2 == 0:\n",
        "        even_sum += number # Add the even number to the sum\n",
        "\n",
        "print(\"Sum of even numbers in between 1 to 50 is:\", even_sum)"
      ],
      "metadata": {
        "colab": {
          "base_uri": "https://localhost:8080/"
        },
        "id": "EpSFqtiW5Lk1",
        "outputId": "0b761057-9fdd-4c41-a5cc-44558d9cd845"
      },
      "execution_count": 9,
      "outputs": [
        {
          "output_type": "stream",
          "name": "stdout",
          "text": [
            "Sum of even numbers in between 1 to 50 is: 650\n"
          ]
        }
      ]
    },
    {
      "cell_type": "code",
      "source": [
        "# 14. Write a program to reverse a string using a while loop.\n",
        "\n",
        "#  Take input\n",
        "original_string = \"Yuvraj\"\n",
        "\n",
        "#  Initialize variables\n",
        "reversed_string = \"\"\n",
        "index = len(original_string) - 1  # Start from the last character\n",
        "\n",
        "# Use a while loop to reverse the string\n",
        "while index >= 0:\n",
        "    reversed_string += original_string[index]\n",
        "    index -= 1  # Move to the previous character\n",
        "\n",
        "#  Print the reversed string\n",
        "print(\"Original string:\", original_string)\n",
        "print(\"Reversed string:\", reversed_string)\n"
      ],
      "metadata": {
        "colab": {
          "base_uri": "https://localhost:8080/"
        },
        "id": "vYra_8a87fe1",
        "outputId": "7ca3e936-c058-4263-a7db-1e413ac2153f"
      },
      "execution_count": 10,
      "outputs": [
        {
          "output_type": "stream",
          "name": "stdout",
          "text": [
            "Original string: Yuvraj\n",
            "Reversed string: jarvuY\n"
          ]
        }
      ]
    },
    {
      "cell_type": "code",
      "source": [
        "#  15. Write a Python program to calculate the factorial of a number provided by the user using a while loop.\n",
        "\n",
        "#  Get input from the user\n",
        "num = int(input(\"Enter a number to find its factorial: \"))\n",
        "\n",
        "#  Initialize variables\n",
        "factorial = 1\n",
        "i = 1\n",
        "\n",
        "#  Use a while loop to calculate the factorial\n",
        "while i <= num:\n",
        "    factorial *= i\n",
        "    i += 1\n",
        "\n",
        "\n",
        "print(f\"The factorial of {num} is {factorial}\")\n"
      ],
      "metadata": {
        "colab": {
          "base_uri": "https://localhost:8080/"
        },
        "id": "DqsCrluA9m80",
        "outputId": "ed7ac81a-804b-49d8-ccff-53c8352f319c"
      },
      "execution_count": 11,
      "outputs": [
        {
          "output_type": "stream",
          "name": "stdout",
          "text": [
            "Enter a number to find its factorial: 5\n",
            "The factorial of 5 is 120\n"
          ]
        }
      ]
    }
  ]
}